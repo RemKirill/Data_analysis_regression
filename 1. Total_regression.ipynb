{
 "cells": [
  {
   "cell_type": "code",
   "execution_count": 1,
   "id": "c135bcd5",
   "metadata": {},
   "outputs": [],
   "source": [
    "import warnings\n",
    "warnings.filterwarnings('ignore')\n",
    "\n",
    "import matplotlib.pyplot as plt\n",
    "import numpy as np \n",
    "import pandas as pd\n",
    "import matplotlib\n",
    "\n",
    "from sklearn.model_selection import train_test_split\n",
    "from sklearn.linear_model import LinearRegression\n",
    "from sklearn.linear_model import Ridge\n",
    "from sklearn.metrics import make_scorer\n",
    "from sklearn.metrics import mean_squared_error\n",
    "from sklearn.model_selection import cross_val_score\n",
    "\n",
    "from sklearn.linear_model import RidgeCV\n",
    "from sklearn.linear_model import LassoCV\n",
    "from sklearn.linear_model import ElasticNetCV"
   ]
  },
  {
   "cell_type": "code",
   "execution_count": 2,
   "id": "c75fccd3",
   "metadata": {},
   "outputs": [
    {
     "name": "stdout",
     "output_type": "stream",
     "text": [
      "Id - 0%\n",
      "Expected - 0%\n",
      "НЕВЕРОТН.1..Невероятные.приключения.итальянцев.в.России - 9%\n",
      "ТЕЛОХРАН.2..Телохранитель - 15%\n",
      "КАВКАЗСК.3..Кавказская.пленница.или.Новые.приключения.Шурика - 15%\n",
      "ПТЫЙ_ЭЛЕ.4..Пятый.элемент - 9%\n",
      "ТЕРМИНАТ.5..Терминатор - 17%\n",
      "КРЕПКИЙ.6..Крепкий.орешек - 21%\n",
      "ПОЛИЦ_АК.7..Полицейская.академия - 18%\n",
      "ЧУЖИЕ.8..Чужие - 21%\n",
      "КРОКОДИЛ.9..Крокодил.Данди - 26%\n",
      "ЗДРАВСТВ.10..Здравствуйте.я.ваша.тетя. - 12%\n",
      "ИРОНИ_СУ.11..Ирония.судьбы.или.с.легким.паром - 15%\n",
      "КРАСОТКА.12..Красотка - 18%\n",
      "МАТРИЦА.13..Матрица - 14%\n",
      "ТИТАНИК.14..Титаник - 19%\n",
      "К_9.15..К.9 - 40%\n",
      "НАЗАД_В.16..Назад.в.будущее - 18%\n",
      "САМА_ОБА.17..Сама.обательная.и.привлекательна - 22%\n",
      "БЛИЗНЕЦЫ.18..Близнецы - 26%\n",
      "СОБАЧЬЕ.19..Собачье.сердце - 11%\n",
      "СОБАКА_Б.20..Собака.Баскервилей - 16%\n",
      "МЕСТО_ВС.21..Место.встречи.изменить.нельзя - 13%\n",
      "ГОРЕЦ.22..Горец - 27%\n",
      "СЛУЖЕБНЫ.23..Служебный.роман - 20%\n",
      "ОС_РЫБ.25..Особенности.национальной.рыбалки - 18%\n",
      "ОС_ОХОТЫ.26..Особенности.национальной.охоты - 13%\n",
      "ДЕСТЬ_НЕ.27..Десть.негритят - 20%\n",
      "ТЕРМИНA2.28..Терминатор.2..судный.день - 16%\n",
      "ВОКЗАЛ_Д.29..Вокзал.для.двоих - 24%\n",
      "ГЕНИЙ.30..Гений - 24%\n",
      "ИВАН_ВАС.31..Иван.Васильевич.меняет.профессию - 16%\n",
      "РОККИ.32..Рокки - 32%\n",
      "ОДИН_ДОМ.33..Один.дома - 18%\n",
      "САМОГОНЩ.34..Самогонщики - 28%\n",
      "ОБЫКНОВЕ.35..Обыкновенное.чудо - 21%\n",
      "В_БОЙ_ИД.36..В.бой.идут.одни.старики - 25%\n",
      "ПАРК_ЮРС.37..Парк.Юрского.периода - 30%\n",
      "МОСКВА_С.38..Москва.слезам.не.верит - 23%\n",
      "БЕЛОЕ_СО.39..Белое.солнце.пустыни - 18%\n",
      "ЛЮДИ_В_Ч.40..Люди.в.черном - 26%\n",
      "ОДИН_ДМ2.41..Один.дома.2..потерянный.в.Нью.Йорке - 30%\n",
      "ХИЩНИК.42..Хищник - 33%\n",
      "ВСПОМНИТ.43..Вспомнить.все - 26%\n",
      "ИНТЕРДЕВ.44..Интердевочка - 24%\n",
      "ЧЕЛЮСТИ.45..Челюсти - 32%\n",
      "ЛЕОН.46..Леон - 23%\n",
      "ПОЛИЦ_ДС.47..Полицейский.из.детского.сада - 38%\n",
      "ОТ_ЗАКАТ.48..От.заката.до.рассвета - 18%\n",
      "ПРАВДИВА.49..Правдивая.ложь - 40%\n",
      "АРМАГЕДД.50..Армагеддон - 30%\n",
      "А_ЗОРИ_З.51..А.зори.здесь.тихие - 29%\n",
      "ДВОЙНОЙ.52..Двойной.удар - 38%\n",
      "МАСКА.53..Маска - 30%\n",
      "БЛЕФ.54..Блеф - 38%\n",
      "ДЕНЬ_СУР.56..День.сурка - 24%\n",
      "БЕГУЩИЙ.57..Бегущий.человек - 41%\n",
      "ЗИМН_ВИШ.58..Зимняя.вишня - 31%\n",
      "ТУТСИ.59..Тутси - 36%\n",
      "НА_ДЕРИБ.60..На.Дерибасовской.хороша.погода.или.на.Брайтон.Бич.всегда.идут.дожди - 31%\n",
      "ТРИ_ПЛЮС.61..Три.плюс.два - 38%\n",
      "ЧАРОДЕИ.62..Чародеи - 26%\n",
      "БАБНИК.63..Бабник - 31%\n",
      "ЗУБАСТИК.64..Зубастики - 42%\n",
      "ИГРУШКА.65..Игрушка..Франция. - 39%\n",
      "ВЫСОКИЙ.66..Высокий.блондин.в.черном.ботинке - 28%\n",
      "ГАЗОНОКО.67..Газонокосильщик - 28%\n",
      "ЧЕЛОВЕК.68..Человек.дождя - 29%\n",
      "МАЛЕНЬКИ.69..Маленький.гигант.большого.секса - 30%\n",
      "ПОКРОВСК.70..Покровские.ворота - 33%\n",
      "КРЕПК_2.71..Крепкий.орешек.2 - 36%\n",
      "СИБИРСКИ.72..Сибирский.цирюльник - 31%\n",
      "МОЛЧАНИЕ.73..Молчание.ягнят - 37%\n",
      "ЭКИПАЖ.74..Экипаж - 43%\n",
      "КОММАНДО.75..Коммандос - 39%\n",
      "ФОРРЕСТ.76..Форрест.Гамп - 33%\n",
      "ДОРОГА_.77..Дорогая.я.уменьшил.детей - 40%\n",
      "УКРОЩЕНИ.78..Укрощение.строптивого - 48%\n",
      "ПРОФЕССИ.79..Профессионал - 41%\n",
      "ДЖУМАНДЖ.80..Джуманджи - 46%\n",
      "ГОРЧИЕ_Г.81..Горячие.головы - 42%\n",
      "ПОСЛЕДНИ.82..Последний.бойскаут - 50%\n",
      "ДЖЕНТЛЬМ.83..Джентльмены.удачи - 74%\n",
      "СПИСОК_Ш.84..Список.Шиндлера - 44%\n",
      "В_ДЖАЗЕ.85..В.джазе.только.девушки - 38%\n",
      "ЗВЕЗДНЫЙ.86..Звездный.десант - 46%\n",
      "ОТПЕТЫЕ.87..Отпетые.мошенники - 50%\n",
      "АДВОКАТ.88..Адвокат.дьявола - 82%\n",
      "ПАПАШИ.89..Папаши - 51%\n",
      "ЕСЛИ_НАС.90..Если.наступит.завтра - 56%\n",
      "В_ЗОНЕ_О.91..В.зоне.особого.внимания - 58%\n",
      "ГРЗНЫЕ_Т.92..Грязные.танцы - 84%\n",
      "СОРОК_ВО.93..Сорок.восемь - 62%\n",
      "ЗАХВАТ.94..Захват - 82%\n",
      "БЕТХОВЕН.95..Бетховен - 86%\n",
      "ДОСПЕХИ.96..Доспехи.Бога - 57%\n",
      "ЧАСТНЫЙ.97..Частный.детектив.или.операция.кооперация - 86%\n",
      "ШЕСТОЕ_Ч.98..Шестое.чувство - 56%\n",
      "СКАЛОЛАЗ.99..Скалолаз - 88%\n",
      "ГАРАЖ.100..Гараж - 78%\n",
      "МЭВЕРИК.101.Мэверик - 67%\n",
      "ИНТРОВЕР.102.Интроверсия.Экстраверсия..тест.Айзенка. - 71%\n",
      "ЭМОЦИОНА.103.Эмоциональная.устойчивость.Невротизм..тест.Айзенка. - 71%\n",
      "E_I__КЕЙ.104.E.I..тест.Кейpси. - 59%\n",
      "S_N__КЕЙ.105.S.N..тест.Кейpси. - 59%\n",
      "T_F__КЕЙ.106.T.F..тест.Кейpси. - 59%\n",
      "J_P__КЕЙ.107.J.P..тест.Кейpси. - 59%\n",
      "ЗАМКНУТО.108.Замкнутость.Общительность..тест.Кэттелла. - 66%\n",
      "УРОВЕНЬ.109.Уровень.интеллекта..тест.Кэттелла. - 66%\n",
      "ЭМОЦИОНА.110.Эмоциональная.неустойчивость.Устойчивость..тест.Кэттелла. - 66%\n",
      "НЕДОБРОС.111.Недобросовестность.Высокая.совестливость..тест.Кэттелла. - 66%\n",
      "ПОДЧИНЕН.112.Подчиненность.Доминантность..тест.Кэттелла. - 66%\n",
      "ОЗАБОЧЕН.113.Озабоченность.Беспечность..тест.Кэттелла. - 66%\n",
      "РОБОСТЬ_.114.Робость.Смелость..тест.Кэттелла. - 66%\n",
      "ЖЕСТКОСТ.115.Жесткость.Чувствительность..тест.Кэттелла. - 66%\n",
      "ДОВЕРЧИВ.116.Доверчивость.Подозрительность..тест.Кэттелла. - 66%\n",
      "ПРАКТИЧН.117.Практичность.Мечтательность..тест.Кэттелла. - 66%\n",
      "ПРМОЛИНЕ.118.Прямолинейность.Дипломатичность..тест.Кэттелла. - 66%\n",
      "САМОУВЕР.119.Самоуверенность.Тревожность..тест.Кэттелла. - 66%\n",
      "КОНСЕРВА.120.Консерватизм.Радикализм..тест.Кэттелла. - 66%\n",
      "ЗАВИСИМО.121.Зависимость.от.группы.Самостоятельность..тест.Кэттелла. - 66%\n",
      "НИЗКИЙ_В.122.Низкий.Высокий.самоконтроль.поведения..тест.Кэттелла. - 66%\n",
      "РАССЛАБЛ.123.Расслабленность.Напряженность..тест.Кэттелла. - 66%\n",
      "IQ.124.IQ - 72%\n",
      "ВЕРБАЛЬН.125.Вербальный.интеллект - 85%\n",
      "ЧИСЛОВОЙ.126.Числовой.интеллект - 92%\n",
      "ПРОСТРАН.127.Пространственный.интеллект - 89%\n",
      "РАВЕН.128.Невербальный.интеллект..тест.Равена. - 69%\n",
      "ОСВЕДОМЛ.129.Осведомленность..тест.Амтхауэра. - 91%\n",
      "КЛАССИФИ.130.Классификация..тест.Амтхауэра. - 92%\n",
      "АНАЛОГИИ.131.Аналогии..тест.Амтхауэра. - 93%\n",
      "ОБОБЩЕНИ.132.Обобщение..тест.Амтхауэра. - 94%\n",
      "МАТЕМАТ1.133.Математические.способности..практическое.мышление...тест.Амтхауэра. - 95%\n",
      "МАТЕМАТ2.134.Математические.способности..теоретическое.мышление...тест.Амтхауэра. - 96%\n",
      "КОМБИНАТ.135.Комбинаторное.мышление..тест.Амтхауэра. - 96%\n",
      "ПРОСТРАН.136.Пространственное.воображение..тест.Амтхауэра. - 96%\n",
      "ЗАПОМИНА.137.Запоминание.и.воспроизведение.информации..тест.Амтхауэра. - 96%\n",
      "ВОЗPАСТ.139.Возpаст - 48%\n",
      "AGE_CAT.139 - 48%\n",
      "ОБPАЗОВА.140.Обpазование - 52%\n",
      "EDU_CAT.140 - 52%\n",
      "УPОВЕНЬ.141.Уpовень.доходов - 59%\n",
      "АСИММЕТP.142.Асимметpия.полушаpий - 60%\n",
      "АКТИВНОС.181.Активность.и.сила..ЛД. - 84%\n",
      "ДОБРОСЕР.182.Добросердечность..ЛД. - 84%\n",
      "ТРУДОВЫЕ.183.Трудовые.качества..ЛД. - 84%\n",
      "ОБЩА_ОЦЕ.184.Общая.оценка..ЛД. - 84%\n",
      "ОБЩИТЕЛЬ.185.Общительность.и.эмоциональность..ЛД. - 84%\n",
      "АНЕКДОТЫ.186.Анекдоты..оценка.чувства.юмора. - 74%\n",
      "ТЮФ.187.ТЮФ..оценка.чувства.юмора. - 57%\n",
      "ФОТО_СPЕ.188.Фото.сpедняя.оценка - 67%\n",
      "ФОТО_СКО.189.Фото.СКО - 67%\n",
      "ФОТО_ЗАН.190.Фото.занижение.завышение.оценки - 67%\n",
      "РУКА_ПЕР.191.Рука.переплетение.пальцев.рук...ведущая - 71%\n",
      "РУКА_ИМИ.192.Рука.имитация.аплодисментов...ведущая - 71%\n",
      "РУКА_СКР.193.Рука.скрещивание.рук.на.груди...ведущая - 71%\n",
      "HОГА.194.Hога...ведущая - 71%\n",
      "ГЛАЗ.195.Глаз...ведущая - 72%\n",
      "РУКОЙ_ПИ.196.Рука.которой.пишут - 78%\n",
      "ПЕРЕУЧИВ.197.Переучивали.ли.писать.если.левша - 78%\n",
      "САМООПPЕ.198.Самоопpеделение.пpавша.левша - 78%\n",
      "БОК_ПРЕД.199.Бок.на.котором.предпочитают.спать - 78%\n",
      "ГЛАЗ_У_В.200.Глаз.который.обычно.шире.открыт - 78%\n"
     ]
    }
   ],
   "source": [
    "df = pd.read_csv('pred_crim_train.csv', delimiter=',')\n",
    "for col in df.columns:\n",
    "    pct_missing = np.mean(df[col].isnull())\n",
    "    print('{} - {}%'.format(col, round(pct_missing*100)))"
   ]
  },
  {
   "cell_type": "markdown",
   "id": "3f393352",
   "metadata": {},
   "source": [
    "Оставим признаки, у которых пропусков меньше 2/3 от общего количества. Заполним пропуски медианным значением."
   ]
  },
  {
   "cell_type": "code",
   "execution_count": 3,
   "id": "e8256e08",
   "metadata": {},
   "outputs": [],
   "source": [
    "df = df.dropna(axis = 1, thresh=2*len(df)/3)\n",
    "df = df.fillna(df.median())#interpolate(method='polynomial', order=2)\n",
    "df = df.dropna()\n",
    "X = df.drop(['Expected', 'Id'], axis=1)\n",
    "y = df['Expected']"
   ]
  },
  {
   "cell_type": "code",
   "execution_count": 4,
   "id": "54199872",
   "metadata": {},
   "outputs": [],
   "source": [
    "X_train, X_test, y_train, y_test = train_test_split(X, y, shuffle = True, test_size=0.25, random_state=42)"
   ]
  },
  {
   "cell_type": "code",
   "execution_count": null,
   "id": "a061fed3",
   "metadata": {},
   "outputs": [],
   "source": [
    "scorer = make_scorer(mean_squared_error, greater_is_better = False)\n",
    "\n",
    "def rmse_cv_train(model):\n",
    "    rmse= np.sqrt(-cross_val_score(model, X_train, y_train, scoring = scorer, cv = 10))\n",
    "    return(rmse)\n",
    "\n",
    "def rmse_cv_test(model):\n",
    "    rmse= np.sqrt(-cross_val_score(model, X_test, y_test, scoring = scorer, cv = 10))\n",
    "    return(rmse)"
   ]
  },
  {
   "cell_type": "markdown",
   "id": "42304788",
   "metadata": {},
   "source": [
    "Будем проверять 4 модели регрессии-- линейная регрессия, lasso, ridge и elasticnet для 3 вариантов-- без нормировки, с min-max нормировкой и с нормировкой на стандартное отклонение."
   ]
  },
  {
   "cell_type": "code",
   "execution_count": 6,
   "id": "cdefec14",
   "metadata": {},
   "outputs": [
    {
     "name": "stdout",
     "output_type": "stream",
     "text": [
      "RMSE на тренировочном множестве : 2.0513823773152233\n",
      "RMSE на тестовом множестве : 2.1236672182221126\n"
     ]
    }
   ],
   "source": [
    "lr = LinearRegression()\n",
    "lr.fit(X_train, y_train)\n",
    "print(\"RMSE на тренировочном множестве :\", rmse_cv_train(lr).mean())\n",
    "print(\"RMSE на тестовом множестве :\", rmse_cv_test(lr).mean())"
   ]
  },
  {
   "cell_type": "code",
   "execution_count": 7,
   "id": "a1f45aeb",
   "metadata": {},
   "outputs": [
    {
     "name": "stdout",
     "output_type": "stream",
     "text": [
      "Лучшая lambda : 1200\n",
      "Попробуем ещё раз с lambda центрированной вокруг 1200\n",
      "Лучшая lambda : 1200.0\n",
      "Ridge RMSE на тренировочном множества : 1.9992714657849988\n",
      "Ridge RMSE на тестовом множестве : 1.8773675387629745\n"
     ]
    }
   ],
   "source": [
    "ridge = RidgeCV(alphas = [1000, 1200, 1500])\n",
    "ridge.fit(X_train, y_train)\n",
    "alpha = ridge.alpha_\n",
    "print(\"Лучшая lambda :\", alpha)\n",
    "\n",
    "print(\"Попробуем ещё раз с lambda центрированной вокруг \" + str(alpha))\n",
    "ridge = RidgeCV(alphas = [alpha * .6, alpha * .65, alpha * .7, alpha * .75, alpha * .8, alpha * .85, \n",
    "                          alpha * .9, alpha * .95, alpha, alpha * 1.05, alpha * 1.1, alpha * 1.15,\n",
    "                          alpha * 1.25, alpha * 1.3, alpha * 1.35, alpha * 1.4], \n",
    "                cv = 10)\n",
    "ridge.fit(X_train, y_train)\n",
    "alpha = ridge.alpha_\n",
    "print(\"Лучшая lambda :\", alpha)\n",
    "\n",
    "print(\"Ridge RMSE на тренировочном множества :\", rmse_cv_train(ridge).mean())\n",
    "print(\"Ridge RMSE на тестовом множестве :\", rmse_cv_test(ridge).mean())"
   ]
  },
  {
   "cell_type": "code",
   "execution_count": 8,
   "id": "f066d367",
   "metadata": {},
   "outputs": [
    {
     "name": "stdout",
     "output_type": "stream",
     "text": [
      "Лучшая lambda : 0.1\n",
      "Попробуем ещё раз с lambda центрированной вокруг 0.1\n",
      "Лучшая lambda : 0.13999999999999999\n",
      "Lasso RMSE на тренировочном множестве : 1.9569135505691737\n",
      "Lasso RMSE на тестовом множестве : 1.9204686806139866\n"
     ]
    }
   ],
   "source": [
    "lasso = LassoCV(alphas = [0.0001, 0.0003, 0.0006, 0.001, 0.003, 0.006, 0.01, 0.03, 0.06, 0.1, \n",
    "                          0.3, 0.6, 1], \n",
    "                max_iter = 50000, cv = 10)\n",
    "lasso.fit(X_train, y_train)\n",
    "alpha = lasso.alpha_\n",
    "print(\"Лучшая lambda :\", alpha)\n",
    "\n",
    "print(\"Попробуем ещё раз с lambda центрированной вокруг \" + str(alpha))\n",
    "lasso = LassoCV(alphas = [alpha * .6, alpha * .65, alpha * .7, alpha * .75, alpha * .8, \n",
    "                          alpha * .85, alpha * .9, alpha * .95, alpha, alpha * 1.05, \n",
    "                          alpha * 1.1, alpha * 1.15, alpha * 1.25, alpha * 1.3, alpha * 1.35, \n",
    "                          alpha * 1.4], \n",
    "                max_iter = 50000, cv = 10)\n",
    "lasso.fit(X_train, y_train)\n",
    "alpha = lasso.alpha_\n",
    "print(\"Лучшая lambda :\", alpha)\n",
    "\n",
    "print(\"Lasso RMSE на тренировочном множестве :\", rmse_cv_train(lasso).mean())\n",
    "print(\"Lasso RMSE на тестовом множестве :\", rmse_cv_test(lasso).mean())"
   ]
  },
  {
   "cell_type": "code",
   "execution_count": 9,
   "id": "78d95502",
   "metadata": {},
   "outputs": [
    {
     "name": "stdout",
     "output_type": "stream",
     "text": [
      "Лучшая lambda : 0.3\n",
      "Попробуем ещё раз с lambda центрированной вокруг 0.3\n",
      "Лучшая lambda : 0.285\n",
      "Lasso RMSE на тренировочном множестве : 1.9582479088636522\n",
      "Lasso RMSE на тестовом множестве : 1.8969730164270906\n"
     ]
    }
   ],
   "source": [
    "elastic = ElasticNetCV(alphas = [0.0001, 0.0003, 0.0006, 0.001, 0.003, 0.006, 0.01, 0.03, 0.06, 0.1, \n",
    "                          0.3, 0.6, 1], \n",
    "                max_iter = 50000, cv = 10)\n",
    "elastic.fit(X_train, y_train)\n",
    "alpha = elastic.alpha_\n",
    "print(\"Лучшая lambda :\", alpha)\n",
    "\n",
    "print(\"Попробуем ещё раз с lambda центрированной вокруг \" + str(alpha))\n",
    "elastic = ElasticNetCV(alphas = [alpha * .6, alpha * .65, alpha * .7, alpha * .75, alpha * .8, \n",
    "                          alpha * .85, alpha * .9, alpha * .95, alpha, alpha * 1.05, \n",
    "                          alpha * 1.1, alpha * 1.15, alpha * 1.25, alpha * 1.3, alpha * 1.35, \n",
    "                          alpha * 1.4], \n",
    "                max_iter = 50000, cv = 10)\n",
    "elastic.fit(X_train, y_train)\n",
    "alpha = elastic.alpha_\n",
    "print(\"Лучшая lambda :\", alpha)\n",
    "\n",
    "print(\"Lasso RMSE на тренировочном множестве :\", rmse_cv_train(elastic).mean())\n",
    "print(\"Lasso RMSE на тестовом множестве :\", rmse_cv_test(elastic).mean())"
   ]
  },
  {
   "cell_type": "code",
   "execution_count": 10,
   "id": "af85a39f",
   "metadata": {},
   "outputs": [
    {
     "data": {
      "text/html": [
       "<style>#sk-container-id-1 {color: black;background-color: white;}#sk-container-id-1 pre{padding: 0;}#sk-container-id-1 div.sk-toggleable {background-color: white;}#sk-container-id-1 label.sk-toggleable__label {cursor: pointer;display: block;width: 100%;margin-bottom: 0;padding: 0.3em;box-sizing: border-box;text-align: center;}#sk-container-id-1 label.sk-toggleable__label-arrow:before {content: \"▸\";float: left;margin-right: 0.25em;color: #696969;}#sk-container-id-1 label.sk-toggleable__label-arrow:hover:before {color: black;}#sk-container-id-1 div.sk-estimator:hover label.sk-toggleable__label-arrow:before {color: black;}#sk-container-id-1 div.sk-toggleable__content {max-height: 0;max-width: 0;overflow: hidden;text-align: left;background-color: #f0f8ff;}#sk-container-id-1 div.sk-toggleable__content pre {margin: 0.2em;color: black;border-radius: 0.25em;background-color: #f0f8ff;}#sk-container-id-1 input.sk-toggleable__control:checked~div.sk-toggleable__content {max-height: 200px;max-width: 100%;overflow: auto;}#sk-container-id-1 input.sk-toggleable__control:checked~label.sk-toggleable__label-arrow:before {content: \"▾\";}#sk-container-id-1 div.sk-estimator input.sk-toggleable__control:checked~label.sk-toggleable__label {background-color: #d4ebff;}#sk-container-id-1 div.sk-label input.sk-toggleable__control:checked~label.sk-toggleable__label {background-color: #d4ebff;}#sk-container-id-1 input.sk-hidden--visually {border: 0;clip: rect(1px 1px 1px 1px);clip: rect(1px, 1px, 1px, 1px);height: 1px;margin: -1px;overflow: hidden;padding: 0;position: absolute;width: 1px;}#sk-container-id-1 div.sk-estimator {font-family: monospace;background-color: #f0f8ff;border: 1px dotted black;border-radius: 0.25em;box-sizing: border-box;margin-bottom: 0.5em;}#sk-container-id-1 div.sk-estimator:hover {background-color: #d4ebff;}#sk-container-id-1 div.sk-parallel-item::after {content: \"\";width: 100%;border-bottom: 1px solid gray;flex-grow: 1;}#sk-container-id-1 div.sk-label:hover label.sk-toggleable__label {background-color: #d4ebff;}#sk-container-id-1 div.sk-serial::before {content: \"\";position: absolute;border-left: 1px solid gray;box-sizing: border-box;top: 0;bottom: 0;left: 50%;z-index: 0;}#sk-container-id-1 div.sk-serial {display: flex;flex-direction: column;align-items: center;background-color: white;padding-right: 0.2em;padding-left: 0.2em;position: relative;}#sk-container-id-1 div.sk-item {position: relative;z-index: 1;}#sk-container-id-1 div.sk-parallel {display: flex;align-items: stretch;justify-content: center;background-color: white;position: relative;}#sk-container-id-1 div.sk-item::before, #sk-container-id-1 div.sk-parallel-item::before {content: \"\";position: absolute;border-left: 1px solid gray;box-sizing: border-box;top: 0;bottom: 0;left: 50%;z-index: -1;}#sk-container-id-1 div.sk-parallel-item {display: flex;flex-direction: column;z-index: 1;position: relative;background-color: white;}#sk-container-id-1 div.sk-parallel-item:first-child::after {align-self: flex-end;width: 50%;}#sk-container-id-1 div.sk-parallel-item:last-child::after {align-self: flex-start;width: 50%;}#sk-container-id-1 div.sk-parallel-item:only-child::after {width: 0;}#sk-container-id-1 div.sk-dashed-wrapped {border: 1px dashed gray;margin: 0 0.4em 0.5em 0.4em;box-sizing: border-box;padding-bottom: 0.4em;background-color: white;}#sk-container-id-1 div.sk-label label {font-family: monospace;font-weight: bold;display: inline-block;line-height: 1.2em;}#sk-container-id-1 div.sk-label-container {text-align: center;}#sk-container-id-1 div.sk-container {/* jupyter's `normalize.less` sets `[hidden] { display: none; }` but bootstrap.min.css set `[hidden] { display: none !important; }` so we also need the `!important` here to be able to override the default hidden behavior on the sphinx rendered scikit-learn.org. See: https://github.com/scikit-learn/scikit-learn/issues/21755 */display: inline-block !important;position: relative;}#sk-container-id-1 div.sk-text-repr-fallback {display: none;}</style><div id=\"sk-container-id-1\" class=\"sk-top-container\"><div class=\"sk-text-repr-fallback\"><pre>ElasticNetCV(alphas=[0.18, 0.195, 0.21, 0.22499999999999998, 0.24, 0.255, 0.27,\n",
       "                     0.285, 0.3, 0.315, 0.33, 0.345, 0.375, 0.39, 0.405, 0.42],\n",
       "             cv=10, max_iter=50000)</pre><b>In a Jupyter environment, please rerun this cell to show the HTML representation or trust the notebook. <br />On GitHub, the HTML representation is unable to render, please try loading this page with nbviewer.org.</b></div><div class=\"sk-container\" hidden><div class=\"sk-item\"><div class=\"sk-estimator sk-toggleable\"><input class=\"sk-toggleable__control sk-hidden--visually\" id=\"sk-estimator-id-1\" type=\"checkbox\" checked><label for=\"sk-estimator-id-1\" class=\"sk-toggleable__label sk-toggleable__label-arrow\">ElasticNetCV</label><div class=\"sk-toggleable__content\"><pre>ElasticNetCV(alphas=[0.18, 0.195, 0.21, 0.22499999999999998, 0.24, 0.255, 0.27,\n",
       "                     0.285, 0.3, 0.315, 0.33, 0.345, 0.375, 0.39, 0.405, 0.42],\n",
       "             cv=10, max_iter=50000)</pre></div></div></div></div></div>"
      ],
      "text/plain": [
       "ElasticNetCV(alphas=[0.18, 0.195, 0.21, 0.22499999999999998, 0.24, 0.255, 0.27,\n",
       "                     0.285, 0.3, 0.315, 0.33, 0.345, 0.375, 0.39, 0.405, 0.42],\n",
       "             cv=10, max_iter=50000)"
      ]
     },
     "execution_count": 10,
     "metadata": {},
     "output_type": "execute_result"
    }
   ],
   "source": [
    "lr.fit(X_train, y_train)\n",
    "ridge.fit(X_train, y_train)\n",
    "lasso.fit(X_train, y_train)\n",
    "elastic.fit(X_train, y_train)"
   ]
  },
  {
   "cell_type": "code",
   "execution_count": 11,
   "id": "a37fc0f1",
   "metadata": {},
   "outputs": [
    {
     "name": "stdout",
     "output_type": "stream",
     "text": [
      "1.8414254944358766\n",
      "1.790123458168463\n",
      "1.7921818998788972\n",
      "1.7918944129757923\n"
     ]
    }
   ],
   "source": [
    "print(np.sqrt(mean_squared_error([12 if x>12 else x for x in lr.predict(X_test)], y_test)))\n",
    "print(np.sqrt(mean_squared_error([12 if x>12 else x for x in ridge.predict(X_test)], y_test)))\n",
    "print(np.sqrt(mean_squared_error([12 if x>12 else x for x in lasso.predict(X_test)], y_test)))\n",
    "print(np.sqrt(mean_squared_error([12 if x>12 else x for x in elastic.predict(X_test)], y_test)))"
   ]
  },
  {
   "cell_type": "code",
   "execution_count": 12,
   "id": "e7b7aa52",
   "metadata": {},
   "outputs": [],
   "source": [
    "min_X = X_train.min()\n",
    "max_X = X_train.max()\n",
    "X_train_min_max = (X_train-min_X)/(max_X-min_X)\n",
    "X_test_min_max = (X_test-min_X)/(max_X-min_X)"
   ]
  },
  {
   "cell_type": "code",
   "execution_count": 13,
   "id": "adbe2e53",
   "metadata": {},
   "outputs": [],
   "source": [
    "scorer = make_scorer(mean_squared_error, greater_is_better = False)\n",
    "\n",
    "def rmse_cv_train(model):\n",
    "    rmse= np.sqrt(-cross_val_score(model, X_train_min_max, y_train, scoring = scorer, cv = 10))\n",
    "    return(rmse)\n",
    "\n",
    "def rmse_cv_test(model):\n",
    "    rmse= np.sqrt(-cross_val_score(model, X_test_min_max, y_test, scoring = scorer, cv = 10))\n",
    "    return(rmse)"
   ]
  },
  {
   "cell_type": "code",
   "execution_count": 14,
   "id": "638e0553",
   "metadata": {},
   "outputs": [
    {
     "name": "stdout",
     "output_type": "stream",
     "text": [
      "RMSE на тренировочном множестве : 2.0513823773152233\n",
      "RMSE на тестовом множестве : 2.123667218222113\n"
     ]
    }
   ],
   "source": [
    "lr_min_max = LinearRegression()\n",
    "lr_min_max.fit(X_train_min_max, y_train)\n",
    "print(\"RMSE на тренировочном множестве :\", rmse_cv_train(lr_min_max).mean())\n",
    "print(\"RMSE на тестовом множестве :\", rmse_cv_test(lr_min_max).mean())"
   ]
  },
  {
   "cell_type": "code",
   "execution_count": 15,
   "id": "c1b41eda",
   "metadata": {},
   "outputs": [
    {
     "name": "stdout",
     "output_type": "stream",
     "text": [
      "Лучшая lambda : 10\n",
      "Попробуем ещё раз с lambda центрированной вокруг 10\n",
      "Лучшая lambda : 10.0\n",
      "Ridge RMSE на тренировочном множества : 1.9982390208271181\n",
      "Ridge RMSE на тестовом множестве : 1.8769601084521153\n"
     ]
    }
   ],
   "source": [
    "ridge_min_max = RidgeCV(alphas = [8, 10, 12])\n",
    "ridge_min_max.fit(X_train_min_max, y_train)\n",
    "alpha = ridge_min_max.alpha_\n",
    "print(\"Лучшая lambda :\", alpha)\n",
    "\n",
    "print(\"Попробуем ещё раз с lambda центрированной вокруг \" + str(alpha))\n",
    "ridge_min_max = RidgeCV(alphas = [alpha * .6, alpha * .65, alpha * .7, alpha * .75, alpha * .8, alpha * .85, \n",
    "                          alpha * .9, alpha * .95, alpha, alpha * 1.05, alpha * 1.1, alpha * 1.15,\n",
    "                          alpha * 1.25, alpha * 1.3, alpha * 1.35, alpha * 1.4], \n",
    "                cv = 10)\n",
    "ridge_min_max.fit(X_train_min_max, y_train)\n",
    "alpha = ridge_min_max.alpha_\n",
    "print(\"Лучшая lambda :\", alpha)\n",
    "\n",
    "print(\"Ridge RMSE на тренировочном множества :\", rmse_cv_train(ridge_min_max).mean())\n",
    "print(\"Ridge RMSE на тестовом множестве :\", rmse_cv_test(ridge_min_max).mean())"
   ]
  },
  {
   "cell_type": "code",
   "execution_count": 16,
   "id": "1bafca74",
   "metadata": {},
   "outputs": [
    {
     "name": "stdout",
     "output_type": "stream",
     "text": [
      "Лучшая lambda : 0.01\n",
      "Попробуем ещё раз с lambda центрированной вокруг 0.01\n",
      "Лучшая lambda : 0.013000000000000001\n",
      "Lasso RMSE на тренировочном множестве : 1.9574220449568405\n",
      "Lasso RMSE на тестовом множестве : 1.9164700820035148\n"
     ]
    }
   ],
   "source": [
    "lasso_min_max = LassoCV(alphas = [0.0001, 0.0003, 0.0006, 0.001, 0.003, 0.006, 0.01, 0.03, 0.06, 0.1, \n",
    "                          0.3, 0.6, 1], \n",
    "                max_iter = 50000, cv = 10)\n",
    "lasso_min_max.fit(X_train_min_max, y_train)\n",
    "alpha = lasso_min_max.alpha_\n",
    "print(\"Лучшая lambda :\", alpha)\n",
    "\n",
    "print(\"Попробуем ещё раз с lambda центрированной вокруг \" + str(alpha))\n",
    "lasso_min_max = LassoCV(alphas = [alpha * .6, alpha * .65, alpha * .7, alpha * .75, alpha * .8, \n",
    "                          alpha * .85, alpha * .9, alpha * .95, alpha, alpha * 1.05, \n",
    "                          alpha * 1.1, alpha * 1.15, alpha * 1.25, alpha * 1.3, alpha * 1.35, \n",
    "                          alpha * 1.4], \n",
    "                max_iter = 50000, cv = 10)\n",
    "lasso_min_max.fit(X_train_min_max, y_train)\n",
    "alpha = lasso_min_max.alpha_\n",
    "print(\"Лучшая lambda :\", alpha)\n",
    "\n",
    "print(\"Lasso RMSE на тренировочном множестве :\", rmse_cv_train(lasso_min_max).mean())\n",
    "print(\"Lasso RMSE на тестовом множестве :\", rmse_cv_test(lasso_min_max).mean())"
   ]
  },
  {
   "cell_type": "code",
   "execution_count": 17,
   "id": "2f7660c5",
   "metadata": {},
   "outputs": [
    {
     "name": "stdout",
     "output_type": "stream",
     "text": [
      "Лучшая lambda : 0.01\n",
      "Попробуем ещё раз с lambda центрированной вокруг 0.01\n",
      "Лучшая lambda : 0.013999999999999999\n",
      "Lasso RMSE на тренировочном множестве : 1.96482245557\n",
      "Lasso RMSE на тестовом множестве : 1.8909870009887175\n"
     ]
    }
   ],
   "source": [
    "elastic_min_max = ElasticNetCV(alphas = [0.0001, 0.0003, 0.0006, 0.001, 0.003, 0.006, 0.01, 0.03, 0.06, 0.1, \n",
    "                          0.3, 0.6, 1], \n",
    "                max_iter = 50000, cv = 10)\n",
    "elastic_min_max.fit(X_train_min_max, y_train)\n",
    "alpha = elastic_min_max.alpha_\n",
    "print(\"Лучшая lambda :\", alpha)\n",
    "\n",
    "print(\"Попробуем ещё раз с lambda центрированной вокруг \" + str(alpha))\n",
    "elastic_min_max = ElasticNetCV(alphas = [alpha * .6, alpha * .65, alpha * .7, alpha * .75, alpha * .8, \n",
    "                          alpha * .85, alpha * .9, alpha * .95, alpha, alpha * 1.05, \n",
    "                          alpha * 1.1, alpha * 1.15, alpha * 1.25, alpha * 1.3, alpha * 1.35, \n",
    "                          alpha * 1.4], \n",
    "                max_iter = 50000, cv = 10)\n",
    "elastic_min_max.fit(X_train_min_max, y_train)\n",
    "alpha = elastic_min_max.alpha_\n",
    "print(\"Лучшая lambda :\", alpha)\n",
    "\n",
    "print(\"Lasso RMSE на тренировочном множестве :\", rmse_cv_train(elastic_min_max).mean())\n",
    "print(\"Lasso RMSE на тестовом множестве :\", rmse_cv_test(elastic_min_max).mean())"
   ]
  },
  {
   "cell_type": "code",
   "execution_count": 18,
   "id": "5fba4a6c",
   "metadata": {},
   "outputs": [
    {
     "data": {
      "text/html": [
       "<style>#sk-container-id-2 {color: black;background-color: white;}#sk-container-id-2 pre{padding: 0;}#sk-container-id-2 div.sk-toggleable {background-color: white;}#sk-container-id-2 label.sk-toggleable__label {cursor: pointer;display: block;width: 100%;margin-bottom: 0;padding: 0.3em;box-sizing: border-box;text-align: center;}#sk-container-id-2 label.sk-toggleable__label-arrow:before {content: \"▸\";float: left;margin-right: 0.25em;color: #696969;}#sk-container-id-2 label.sk-toggleable__label-arrow:hover:before {color: black;}#sk-container-id-2 div.sk-estimator:hover label.sk-toggleable__label-arrow:before {color: black;}#sk-container-id-2 div.sk-toggleable__content {max-height: 0;max-width: 0;overflow: hidden;text-align: left;background-color: #f0f8ff;}#sk-container-id-2 div.sk-toggleable__content pre {margin: 0.2em;color: black;border-radius: 0.25em;background-color: #f0f8ff;}#sk-container-id-2 input.sk-toggleable__control:checked~div.sk-toggleable__content {max-height: 200px;max-width: 100%;overflow: auto;}#sk-container-id-2 input.sk-toggleable__control:checked~label.sk-toggleable__label-arrow:before {content: \"▾\";}#sk-container-id-2 div.sk-estimator input.sk-toggleable__control:checked~label.sk-toggleable__label {background-color: #d4ebff;}#sk-container-id-2 div.sk-label input.sk-toggleable__control:checked~label.sk-toggleable__label {background-color: #d4ebff;}#sk-container-id-2 input.sk-hidden--visually {border: 0;clip: rect(1px 1px 1px 1px);clip: rect(1px, 1px, 1px, 1px);height: 1px;margin: -1px;overflow: hidden;padding: 0;position: absolute;width: 1px;}#sk-container-id-2 div.sk-estimator {font-family: monospace;background-color: #f0f8ff;border: 1px dotted black;border-radius: 0.25em;box-sizing: border-box;margin-bottom: 0.5em;}#sk-container-id-2 div.sk-estimator:hover {background-color: #d4ebff;}#sk-container-id-2 div.sk-parallel-item::after {content: \"\";width: 100%;border-bottom: 1px solid gray;flex-grow: 1;}#sk-container-id-2 div.sk-label:hover label.sk-toggleable__label {background-color: #d4ebff;}#sk-container-id-2 div.sk-serial::before {content: \"\";position: absolute;border-left: 1px solid gray;box-sizing: border-box;top: 0;bottom: 0;left: 50%;z-index: 0;}#sk-container-id-2 div.sk-serial {display: flex;flex-direction: column;align-items: center;background-color: white;padding-right: 0.2em;padding-left: 0.2em;position: relative;}#sk-container-id-2 div.sk-item {position: relative;z-index: 1;}#sk-container-id-2 div.sk-parallel {display: flex;align-items: stretch;justify-content: center;background-color: white;position: relative;}#sk-container-id-2 div.sk-item::before, #sk-container-id-2 div.sk-parallel-item::before {content: \"\";position: absolute;border-left: 1px solid gray;box-sizing: border-box;top: 0;bottom: 0;left: 50%;z-index: -1;}#sk-container-id-2 div.sk-parallel-item {display: flex;flex-direction: column;z-index: 1;position: relative;background-color: white;}#sk-container-id-2 div.sk-parallel-item:first-child::after {align-self: flex-end;width: 50%;}#sk-container-id-2 div.sk-parallel-item:last-child::after {align-self: flex-start;width: 50%;}#sk-container-id-2 div.sk-parallel-item:only-child::after {width: 0;}#sk-container-id-2 div.sk-dashed-wrapped {border: 1px dashed gray;margin: 0 0.4em 0.5em 0.4em;box-sizing: border-box;padding-bottom: 0.4em;background-color: white;}#sk-container-id-2 div.sk-label label {font-family: monospace;font-weight: bold;display: inline-block;line-height: 1.2em;}#sk-container-id-2 div.sk-label-container {text-align: center;}#sk-container-id-2 div.sk-container {/* jupyter's `normalize.less` sets `[hidden] { display: none; }` but bootstrap.min.css set `[hidden] { display: none !important; }` so we also need the `!important` here to be able to override the default hidden behavior on the sphinx rendered scikit-learn.org. See: https://github.com/scikit-learn/scikit-learn/issues/21755 */display: inline-block !important;position: relative;}#sk-container-id-2 div.sk-text-repr-fallback {display: none;}</style><div id=\"sk-container-id-2\" class=\"sk-top-container\"><div class=\"sk-text-repr-fallback\"><pre>ElasticNetCV(alphas=[0.006, 0.006500000000000001, 0.006999999999999999, 0.0075,\n",
       "                     0.008, 0.0085, 0.009000000000000001, 0.0095, 0.01, 0.0105,\n",
       "                     0.011000000000000001, 0.0115, 0.0125, 0.013000000000000001,\n",
       "                     0.013500000000000002, 0.013999999999999999],\n",
       "             cv=10, max_iter=50000)</pre><b>In a Jupyter environment, please rerun this cell to show the HTML representation or trust the notebook. <br />On GitHub, the HTML representation is unable to render, please try loading this page with nbviewer.org.</b></div><div class=\"sk-container\" hidden><div class=\"sk-item\"><div class=\"sk-estimator sk-toggleable\"><input class=\"sk-toggleable__control sk-hidden--visually\" id=\"sk-estimator-id-2\" type=\"checkbox\" checked><label for=\"sk-estimator-id-2\" class=\"sk-toggleable__label sk-toggleable__label-arrow\">ElasticNetCV</label><div class=\"sk-toggleable__content\"><pre>ElasticNetCV(alphas=[0.006, 0.006500000000000001, 0.006999999999999999, 0.0075,\n",
       "                     0.008, 0.0085, 0.009000000000000001, 0.0095, 0.01, 0.0105,\n",
       "                     0.011000000000000001, 0.0115, 0.0125, 0.013000000000000001,\n",
       "                     0.013500000000000002, 0.013999999999999999],\n",
       "             cv=10, max_iter=50000)</pre></div></div></div></div></div>"
      ],
      "text/plain": [
       "ElasticNetCV(alphas=[0.006, 0.006500000000000001, 0.006999999999999999, 0.0075,\n",
       "                     0.008, 0.0085, 0.009000000000000001, 0.0095, 0.01, 0.0105,\n",
       "                     0.011000000000000001, 0.0115, 0.0125, 0.013000000000000001,\n",
       "                     0.013500000000000002, 0.013999999999999999],\n",
       "             cv=10, max_iter=50000)"
      ]
     },
     "execution_count": 18,
     "metadata": {},
     "output_type": "execute_result"
    }
   ],
   "source": [
    "lr_min_max.fit(X_train_min_max, y_train)\n",
    "ridge_min_max.fit(X_train_min_max, y_train)\n",
    "lasso_min_max.fit(X_train_min_max, y_train)\n",
    "elastic_min_max.fit(X_train_min_max, y_train)"
   ]
  },
  {
   "cell_type": "code",
   "execution_count": 19,
   "id": "46f35115",
   "metadata": {},
   "outputs": [
    {
     "name": "stdout",
     "output_type": "stream",
     "text": [
      "1.841425494435877\n",
      "1.7901897690178474\n",
      "1.7928887709177816\n",
      "1.7858339165864467\n"
     ]
    }
   ],
   "source": [
    "print(np.sqrt(mean_squared_error([12 if x>12 else x for x in lr_min_max.predict(X_test_min_max)], y_test)))\n",
    "print(np.sqrt(mean_squared_error([12 if x>12 else x for x in ridge_min_max.predict(X_test_min_max)], y_test)))\n",
    "print(np.sqrt(mean_squared_error([12 if x>12 else x for x in lasso_min_max.predict(X_test_min_max)], y_test)))\n",
    "print(np.sqrt(mean_squared_error([12 if x>12 else x for x in elastic_min_max.predict(X_test_min_max)], y_test)))"
   ]
  },
  {
   "cell_type": "code",
   "execution_count": 20,
   "id": "2d2927d6",
   "metadata": {},
   "outputs": [],
   "source": [
    "mean_X = X_train.mean()\n",
    "std_X = X_train.std()\n",
    "X_train_std = (X_train-mean_X)/std_X\n",
    "X_test_std = (X_test-mean_X)/std_X"
   ]
  },
  {
   "cell_type": "code",
   "execution_count": 21,
   "id": "64788765",
   "metadata": {},
   "outputs": [],
   "source": [
    "scorer = make_scorer(mean_squared_error, greater_is_better = False)\n",
    "\n",
    "def rmse_cv_train(model):\n",
    "    rmse= np.sqrt(-cross_val_score(model, X_train_std, y_train, scoring = scorer, cv = 10))\n",
    "    return(rmse)\n",
    "\n",
    "def rmse_cv_test(model):\n",
    "    rmse= np.sqrt(-cross_val_score(model, X_test_std, y_test, scoring = scorer, cv = 10))\n",
    "    return(rmse)"
   ]
  },
  {
   "cell_type": "code",
   "execution_count": 22,
   "id": "e2a1fe6b",
   "metadata": {},
   "outputs": [
    {
     "name": "stdout",
     "output_type": "stream",
     "text": [
      "RMSE на тренировочном множестве : 2.0513823773152238\n",
      "RMSE на тестовом множестве : 2.1236672182221126\n"
     ]
    }
   ],
   "source": [
    "lr_std = LinearRegression()\n",
    "lr_std.fit(X_train_std, y_train)\n",
    "print(\"RMSE на тренировочном множестве :\", rmse_cv_train(lr_std).mean())\n",
    "print(\"RMSE на тестовом множестве :\", rmse_cv_test(lr_std).mean())"
   ]
  },
  {
   "cell_type": "code",
   "execution_count": 23,
   "id": "31c08d55",
   "metadata": {},
   "outputs": [
    {
     "name": "stdout",
     "output_type": "stream",
     "text": [
      "Лучшая lambda : 300\n",
      "Попробуем ещё раз с lambda центрированной вокруг 300\n",
      "Лучшая lambda : 300.0\n",
      "Ridge RMSE на тренировочном множества : 2.0041585767167556\n",
      "Ridge RMSE на тестовом множестве : 1.8930174829707132\n"
     ]
    }
   ],
   "source": [
    "ridge_std = RidgeCV(alphas = [280, 300, 320, 340])\n",
    "ridge_std.fit(X_train_std, y_train)\n",
    "alpha = ridge_std.alpha_\n",
    "print(\"Лучшая lambda :\", alpha)\n",
    "\n",
    "print(\"Попробуем ещё раз с lambda центрированной вокруг \" + str(alpha))\n",
    "ridge_std = RidgeCV(alphas = [alpha * .6, alpha * .65, alpha * .7, alpha * .75, alpha * .8, alpha * .85, \n",
    "                          alpha * .9, alpha * .95, alpha, alpha * 1.05, alpha * 1.1, alpha * 1.15,\n",
    "                          alpha * 1.25, alpha * 1.3, alpha * 1.35, alpha * 1.4], \n",
    "                cv = 10)\n",
    "ridge_std.fit(X_train_std, y_train)\n",
    "alpha = ridge_std.alpha_\n",
    "print(\"Лучшая lambda :\", alpha)\n",
    "\n",
    "print(\"Ridge RMSE на тренировочном множества :\", rmse_cv_train(ridge_std).mean())\n",
    "print(\"Ridge RMSE на тестовом множестве :\", rmse_cv_test(ridge_std).mean())"
   ]
  },
  {
   "cell_type": "code",
   "execution_count": 24,
   "id": "2adfece2",
   "metadata": {},
   "outputs": [
    {
     "name": "stdout",
     "output_type": "stream",
     "text": [
      "Лучшая lambda : 0.1\n",
      "Попробуем ещё раз с lambda центрированной вокруг 0.1\n",
      "Лучшая lambda : 0.13999999999999999\n",
      "Lasso RMSE на тренировочном множестве : 1.9601299414917173\n",
      "Lasso RMSE на тестовом множестве : 1.9197941193095782\n"
     ]
    }
   ],
   "source": [
    "lasso_std = LassoCV(alphas = [0.0001, 0.0003, 0.0006, 0.001, 0.003, 0.006, 0.01, 0.03, 0.06, 0.1, \n",
    "                          0.3, 0.6, 1], \n",
    "                max_iter = 50000, cv = 10)\n",
    "lasso_std.fit(X_train_std, y_train)\n",
    "alpha = lasso_std.alpha_\n",
    "print(\"Лучшая lambda :\", alpha)\n",
    "\n",
    "print(\"Попробуем ещё раз с lambda центрированной вокруг \" + str(alpha))\n",
    "lasso_std = LassoCV(alphas = [alpha * .6, alpha * .65, alpha * .7, alpha * .75, alpha * .8, \n",
    "                          alpha * .85, alpha * .9, alpha * .95, alpha, alpha * 1.05, \n",
    "                          alpha * 1.1, alpha * 1.15, alpha * 1.25, alpha * 1.3, alpha * 1.35, \n",
    "                          alpha * 1.4], \n",
    "                max_iter = 50000, cv = 10)\n",
    "lasso_std.fit(X_train_std, y_train)\n",
    "alpha = lasso.alpha_\n",
    "print(\"Лучшая lambda :\", alpha)\n",
    "\n",
    "print(\"Lasso RMSE на тренировочном множестве :\", rmse_cv_train(lasso_std).mean())\n",
    "print(\"Lasso RMSE на тестовом множестве :\", rmse_cv_test(lasso_std).mean())"
   ]
  },
  {
   "cell_type": "code",
   "execution_count": 25,
   "id": "7208611b",
   "metadata": {},
   "outputs": [
    {
     "name": "stdout",
     "output_type": "stream",
     "text": [
      "Лучшая lambda : 0.1\n",
      "Попробуем ещё раз с lambda центрированной вокруг 0.1\n",
      "Лучшая lambda : 0.13999999999999999\n",
      "Lasso RMSE на тренировочном множестве : 1.9576120761394047\n",
      "Lasso RMSE на тестовом множестве : 1.911012071006288\n"
     ]
    }
   ],
   "source": [
    "elastic_std = ElasticNetCV(alphas = [0.0001, 0.0003, 0.0006, 0.001, 0.003, 0.006, 0.01, 0.03, 0.06, 0.1, \n",
    "                          0.3, 0.6, 1], \n",
    "                max_iter = 50000, cv = 10)\n",
    "elastic_std.fit(X_train_std, y_train)\n",
    "alpha = elastic_std.alpha_\n",
    "print(\"Лучшая lambda :\", alpha)\n",
    "\n",
    "print(\"Попробуем ещё раз с lambda центрированной вокруг \" + str(alpha))\n",
    "elastic_std = ElasticNetCV(alphas = [alpha * .6, alpha * .65, alpha * .7, alpha * .75, alpha * .8, \n",
    "                          alpha * .85, alpha * .9, alpha * .95, alpha, alpha * 1.05, \n",
    "                          alpha * 1.1, alpha * 1.15, alpha * 1.25, alpha * 1.3, alpha * 1.35, \n",
    "                          alpha * 1.4], \n",
    "                max_iter = 50000, cv = 10)\n",
    "elastic_std.fit(X_train_std, y_train)\n",
    "alpha = elastic_std.alpha_\n",
    "print(\"Лучшая lambda :\", alpha)\n",
    "\n",
    "print(\"Lasso RMSE на тренировочном множестве :\", rmse_cv_train(elastic_std).mean())\n",
    "print(\"Lasso RMSE на тестовом множестве :\", rmse_cv_test(elastic_std).mean())"
   ]
  },
  {
   "cell_type": "code",
   "execution_count": 26,
   "id": "41745fbe",
   "metadata": {},
   "outputs": [
    {
     "data": {
      "text/html": [
       "<style>#sk-container-id-3 {color: black;background-color: white;}#sk-container-id-3 pre{padding: 0;}#sk-container-id-3 div.sk-toggleable {background-color: white;}#sk-container-id-3 label.sk-toggleable__label {cursor: pointer;display: block;width: 100%;margin-bottom: 0;padding: 0.3em;box-sizing: border-box;text-align: center;}#sk-container-id-3 label.sk-toggleable__label-arrow:before {content: \"▸\";float: left;margin-right: 0.25em;color: #696969;}#sk-container-id-3 label.sk-toggleable__label-arrow:hover:before {color: black;}#sk-container-id-3 div.sk-estimator:hover label.sk-toggleable__label-arrow:before {color: black;}#sk-container-id-3 div.sk-toggleable__content {max-height: 0;max-width: 0;overflow: hidden;text-align: left;background-color: #f0f8ff;}#sk-container-id-3 div.sk-toggleable__content pre {margin: 0.2em;color: black;border-radius: 0.25em;background-color: #f0f8ff;}#sk-container-id-3 input.sk-toggleable__control:checked~div.sk-toggleable__content {max-height: 200px;max-width: 100%;overflow: auto;}#sk-container-id-3 input.sk-toggleable__control:checked~label.sk-toggleable__label-arrow:before {content: \"▾\";}#sk-container-id-3 div.sk-estimator input.sk-toggleable__control:checked~label.sk-toggleable__label {background-color: #d4ebff;}#sk-container-id-3 div.sk-label input.sk-toggleable__control:checked~label.sk-toggleable__label {background-color: #d4ebff;}#sk-container-id-3 input.sk-hidden--visually {border: 0;clip: rect(1px 1px 1px 1px);clip: rect(1px, 1px, 1px, 1px);height: 1px;margin: -1px;overflow: hidden;padding: 0;position: absolute;width: 1px;}#sk-container-id-3 div.sk-estimator {font-family: monospace;background-color: #f0f8ff;border: 1px dotted black;border-radius: 0.25em;box-sizing: border-box;margin-bottom: 0.5em;}#sk-container-id-3 div.sk-estimator:hover {background-color: #d4ebff;}#sk-container-id-3 div.sk-parallel-item::after {content: \"\";width: 100%;border-bottom: 1px solid gray;flex-grow: 1;}#sk-container-id-3 div.sk-label:hover label.sk-toggleable__label {background-color: #d4ebff;}#sk-container-id-3 div.sk-serial::before {content: \"\";position: absolute;border-left: 1px solid gray;box-sizing: border-box;top: 0;bottom: 0;left: 50%;z-index: 0;}#sk-container-id-3 div.sk-serial {display: flex;flex-direction: column;align-items: center;background-color: white;padding-right: 0.2em;padding-left: 0.2em;position: relative;}#sk-container-id-3 div.sk-item {position: relative;z-index: 1;}#sk-container-id-3 div.sk-parallel {display: flex;align-items: stretch;justify-content: center;background-color: white;position: relative;}#sk-container-id-3 div.sk-item::before, #sk-container-id-3 div.sk-parallel-item::before {content: \"\";position: absolute;border-left: 1px solid gray;box-sizing: border-box;top: 0;bottom: 0;left: 50%;z-index: -1;}#sk-container-id-3 div.sk-parallel-item {display: flex;flex-direction: column;z-index: 1;position: relative;background-color: white;}#sk-container-id-3 div.sk-parallel-item:first-child::after {align-self: flex-end;width: 50%;}#sk-container-id-3 div.sk-parallel-item:last-child::after {align-self: flex-start;width: 50%;}#sk-container-id-3 div.sk-parallel-item:only-child::after {width: 0;}#sk-container-id-3 div.sk-dashed-wrapped {border: 1px dashed gray;margin: 0 0.4em 0.5em 0.4em;box-sizing: border-box;padding-bottom: 0.4em;background-color: white;}#sk-container-id-3 div.sk-label label {font-family: monospace;font-weight: bold;display: inline-block;line-height: 1.2em;}#sk-container-id-3 div.sk-label-container {text-align: center;}#sk-container-id-3 div.sk-container {/* jupyter's `normalize.less` sets `[hidden] { display: none; }` but bootstrap.min.css set `[hidden] { display: none !important; }` so we also need the `!important` here to be able to override the default hidden behavior on the sphinx rendered scikit-learn.org. See: https://github.com/scikit-learn/scikit-learn/issues/21755 */display: inline-block !important;position: relative;}#sk-container-id-3 div.sk-text-repr-fallback {display: none;}</style><div id=\"sk-container-id-3\" class=\"sk-top-container\"><div class=\"sk-text-repr-fallback\"><pre>ElasticNetCV(alphas=[0.06, 0.065, 0.06999999999999999, 0.07500000000000001,\n",
       "                     0.08000000000000002, 0.085, 0.09000000000000001, 0.095,\n",
       "                     0.1, 0.10500000000000001, 0.11000000000000001,\n",
       "                     0.11499999999999999, 0.125, 0.13, 0.135,\n",
       "                     0.13999999999999999],\n",
       "             cv=10, max_iter=50000)</pre><b>In a Jupyter environment, please rerun this cell to show the HTML representation or trust the notebook. <br />On GitHub, the HTML representation is unable to render, please try loading this page with nbviewer.org.</b></div><div class=\"sk-container\" hidden><div class=\"sk-item\"><div class=\"sk-estimator sk-toggleable\"><input class=\"sk-toggleable__control sk-hidden--visually\" id=\"sk-estimator-id-3\" type=\"checkbox\" checked><label for=\"sk-estimator-id-3\" class=\"sk-toggleable__label sk-toggleable__label-arrow\">ElasticNetCV</label><div class=\"sk-toggleable__content\"><pre>ElasticNetCV(alphas=[0.06, 0.065, 0.06999999999999999, 0.07500000000000001,\n",
       "                     0.08000000000000002, 0.085, 0.09000000000000001, 0.095,\n",
       "                     0.1, 0.10500000000000001, 0.11000000000000001,\n",
       "                     0.11499999999999999, 0.125, 0.13, 0.135,\n",
       "                     0.13999999999999999],\n",
       "             cv=10, max_iter=50000)</pre></div></div></div></div></div>"
      ],
      "text/plain": [
       "ElasticNetCV(alphas=[0.06, 0.065, 0.06999999999999999, 0.07500000000000001,\n",
       "                     0.08000000000000002, 0.085, 0.09000000000000001, 0.095,\n",
       "                     0.1, 0.10500000000000001, 0.11000000000000001,\n",
       "                     0.11499999999999999, 0.125, 0.13, 0.135,\n",
       "                     0.13999999999999999],\n",
       "             cv=10, max_iter=50000)"
      ]
     },
     "execution_count": 26,
     "metadata": {},
     "output_type": "execute_result"
    }
   ],
   "source": [
    "lr_std.fit(X_train_std, y_train)\n",
    "ridge_std.fit(X_train_std, y_train)\n",
    "lasso_std.fit(X_train_std, y_train)\n",
    "elastic_std.fit(X_train_std, y_train)"
   ]
  },
  {
   "cell_type": "code",
   "execution_count": 27,
   "id": "fb013076",
   "metadata": {},
   "outputs": [
    {
     "name": "stdout",
     "output_type": "stream",
     "text": [
      "1.8414254944358768\n",
      "1.7947683184052263\n",
      "1.8015627972511374\n",
      "1.7970215680483737\n"
     ]
    }
   ],
   "source": [
    "print(np.sqrt(mean_squared_error([12 if x>12 else x for x in lr_std.predict(X_test_std)], y_test)))\n",
    "print(np.sqrt(mean_squared_error([12 if x>12 else x for x in ridge_std.predict(X_test_std)], y_test)))\n",
    "print(np.sqrt(mean_squared_error([12 if x>12 else x for x in lasso_std.predict(X_test_std)], y_test)))\n",
    "print(np.sqrt(mean_squared_error([12 if x>12 else x for x in elastic_std.predict(X_test_std)], y_test)))"
   ]
  },
  {
   "cell_type": "markdown",
   "id": "c75f5e92",
   "metadata": {},
   "source": [
    "Для предсказания будем использовать метод показвший лучший результат-- ElasticNet с min-max нормировкой."
   ]
  },
  {
   "cell_type": "code",
   "execution_count": 38,
   "id": "c7deb0fd",
   "metadata": {},
   "outputs": [
    {
     "name": "stdout",
     "output_type": "stream",
     "text": [
      "Лучшая lambda : 0.01\n",
      "Попробуем ещё раз с lambda центрированной вокруг 0.01\n"
     ]
    }
   ],
   "source": [
    "df_kag = pd.read_csv('pred_crim_test.csv', delimiter=';')\n",
    "df_kag = df_kag.loc[:, df.columns.drop('Expected')]\n",
    "df_kag_NA = df_kag.fillna(df_kag.median())\n",
    "f = open('reg_test.csv','w') \n",
    "f.write('Id,Predicted')\n",
    "f.write('\\n')\n",
    "minX = X.min()\n",
    "maxX = X.max()\n",
    "X_ = (X-minX)/(maxX-minX)\n",
    "elastic_min_max = ElasticNetCV(alphas = [0.0001, 0.0003, 0.0006, 0.001, 0.003, 0.006, 0.01, 0.03, 0.06, 0.1, \n",
    "                          0.3, 0.6, 1], \n",
    "                max_iter = 50000, cv = 10)\n",
    "elastic_min_max.fit(X_, y)\n",
    "alpha = elastic_min_max.alpha_\n",
    "print(\"Лучшая lambda :\", alpha)\n",
    "\n",
    "print(\"Попробуем ещё раз с lambda центрированной вокруг \" + str(alpha))\n",
    "elastic_min_max = ElasticNetCV(alphas = [alpha * .6, alpha * .65, alpha * .7, alpha * .75, alpha * .8, \n",
    "                          alpha * .85, alpha * .9, alpha * .95, alpha, alpha * 1.05, \n",
    "                          alpha * 1.1, alpha * 1.15, alpha * 1.25, alpha * 1.3, alpha * 1.35, \n",
    "                          alpha * 1.4], \n",
    "                max_iter = 50000, cv = 10)\n",
    "elastic_min_max.fit(X_, y)\n",
    "pred = elastic_min_max.predict((df_kag_NA.drop('Id', axis=1)-minX)/(maxX-minX))\n",
    "for i in range(len(df_kag_NA['Id'])):\n",
    "    f.write(str(df_kag_NA['Id'][i]))\n",
    "    f.write(',')\n",
    "    p = pred[i]\n",
    "    if (p > 12):\n",
    "        p = 12\n",
    "    f.write(str(p))\n",
    "    f.write('\\n')"
   ]
  }
 ],
 "metadata": {
  "kernelspec": {
   "display_name": "Python 3 (ipykernel)",
   "language": "python",
   "name": "python3"
  },
  "language_info": {
   "codemirror_mode": {
    "name": "ipython",
    "version": 3
   },
   "file_extension": ".py",
   "mimetype": "text/x-python",
   "name": "python",
   "nbconvert_exporter": "python",
   "pygments_lexer": "ipython3",
   "version": "3.10.7"
  }
 },
 "nbformat": 4,
 "nbformat_minor": 5
}
